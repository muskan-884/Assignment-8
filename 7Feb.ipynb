{
 "cells": [
  {
   "cell_type": "code",
   "execution_count": 35,
   "id": "d6fdb6ab-c085-41e6-9cd7-7865fa642e9c",
   "metadata": {},
   "outputs": [
    {
     "name": "stdout",
     "output_type": "stream",
     "text": [
      "Valid Password\n"
     ]
    }
   ],
   "source": [
    "# Q1. You are writing code for a company. The requirement of the company is that you create a python\n",
    "# function that will check whether the password entered by the user is correct or not. The function should\n",
    "# take the password as input and return the string “Valid Password” if the entered password follows the\n",
    "# below-given password guidelines else it should return “Invalid Password”.\n",
    "# Note: 1. The Password should contain at least two uppercase letters and at least two lowercase letters.\n",
    "# 2. The Password should contain at least a number and three special characters.\n",
    "# 3. The length of the password should be 10 characters long.\n",
    "l, u, p, d = 0, 0, 0, 0\n",
    "s = \"AR@m@_f0rtu9e$\"\n",
    "capitalalphabets=\"ABCDEFGHIJKLMNOPQRSTUVWXYZ\"\n",
    "smallalphabets=\"abcdefghijklmnopqrstuvwxyz\"\n",
    "specialchar=\"$@_\"\n",
    "digits=\"0123456789\"\n",
    "if (len(s) >= 10):\n",
    "\tfor i in s:\n",
    "\n",
    "\t\t# counting lowercase alphabets\n",
    "\t\tif (i in smallalphabets):\n",
    "\t\t\tl+=1\t\t\n",
    "\n",
    "\t\t# counting uppercase alphabets\n",
    "\t\tif (i in capitalalphabets):\n",
    "\t\t\tu+=1\t\t\n",
    "\n",
    "\t\t# counting digits\n",
    "\t\tif (i in digits):\n",
    "\t\t\td+=1\t\t\n",
    "\n",
    "\t\t# counting the mentioned special characters\n",
    "\t\tif(i in specialchar):\n",
    "\t\t\tp+=1\t\n",
    "if (l>=1 and u>=1 and p>=1 and d>=1 and l+p+u+d==len(s)):\n",
    "\tprint(\"Valid Password\")\n",
    "else:\n",
    "\tprint(\"Invalid Password\")\n"
   ]
  },
  {
   "cell_type": "code",
   "execution_count": 9,
   "id": "c0003b7b-d1d3-4671-b530-2eb1c727ba8d",
   "metadata": {},
   "outputs": [],
   "source": [
    "Q2. Solve the below-given questions using at least one of the following:\n",
    "1. Lambda functioJ\n",
    "2. Filter functioJ\n",
    "3. Zap functioJ\n",
    "4. List ComprehensioI\n",
    "B Check if the string starts with a particular letter\n",
    "B Check if the string is numericY\n",
    "B Sort a list of tuples having fruit names and their quantity. [(\"mango\",99),(\"orange\",80), (\"grapes\", 1000)-\n",
    "B Find the squares of numbers from 1 to 10Y\n",
    "B Find the cube root of numbers from 1 to 10Y\n",
    "B Check if a given number is evenY\n",
    "B Filter odd numbers from the given list.\n",
    "[1,2,3,4,5,6,7,8,9,10-\n",
    "B Sort a list of integers into positive and negative integers lists.\n",
    "[1,2,3,4,5,6,-1,-2,-3,-4,-5,0]"
   ]
  },
  {
   "cell_type": "code",
   "execution_count": 9,
   "id": "84123479-cb60-4200-84ae-73d11df08d3d",
   "metadata": {},
   "outputs": [],
   "source": [
    "##Check if the string starts with a particular letter\n",
    "str=\"shubham\"\n",
    "abc=lambda str: True if str.startswith('s') else False"
   ]
  },
  {
   "cell_type": "code",
   "execution_count": 10,
   "id": "ef969989-34c1-404b-ad40-2f0a039013cb",
   "metadata": {},
   "outputs": [
    {
     "data": {
      "text/plain": [
       "True"
      ]
     },
     "execution_count": 10,
     "metadata": {},
     "output_type": "execute_result"
    }
   ],
   "source": [
    "abc(str)"
   ]
  },
  {
   "cell_type": "code",
   "execution_count": 11,
   "id": "6c8bd8e1-3889-473d-bfb8-8d1f9216190d",
   "metadata": {},
   "outputs": [],
   "source": [
    "##Check if the string is numeric\n",
    "xyz=lambda str: True if str.isnumeric else False"
   ]
  },
  {
   "cell_type": "code",
   "execution_count": 12,
   "id": "058e1ec6-f6df-4f27-9b70-ad887d5ac1b7",
   "metadata": {},
   "outputs": [
    {
     "data": {
      "text/plain": [
       "True"
      ]
     },
     "execution_count": 12,
     "metadata": {},
     "output_type": "execute_result"
    }
   ],
   "source": [
    "xyz(str)"
   ]
  },
  {
   "cell_type": "code",
   "execution_count": 33,
   "id": "87e74cd2-d4ab-4661-b4a3-5e038c3fab3f",
   "metadata": {},
   "outputs": [
    {
     "data": {
      "text/plain": [
       "[('orange', 80), ('mango', 99), ('grapes', 1000)]"
      ]
     },
     "execution_count": 33,
     "metadata": {},
     "output_type": "execute_result"
    }
   ],
   "source": [
    "##Sort a list of tuples having fruit names and their quantity.\n",
    "fruits=[(\"mango\",99),(\"orange\",80), (\"grapes\", 1000)]\n",
    "sort=fruits.sort(key = lambda x: x[1])\n",
    "fruits"
   ]
  },
  {
   "cell_type": "code",
   "execution_count": 10,
   "id": "ed19c38c-ac9b-4009-874f-b36e89674cc3",
   "metadata": {},
   "outputs": [],
   "source": [
    "##Find the squares of numbers from 1 to 10.\n",
    "l=[i**2 for i in range(1,11)]"
   ]
  },
  {
   "cell_type": "code",
   "execution_count": 11,
   "id": "69c32d3e-8e79-4be4-a3b1-90860839a898",
   "metadata": {},
   "outputs": [
    {
     "data": {
      "text/plain": [
       "[1, 4, 9, 16, 25, 36, 49, 64, 81, 100]"
      ]
     },
     "execution_count": 11,
     "metadata": {},
     "output_type": "execute_result"
    }
   ],
   "source": [
    "l"
   ]
  },
  {
   "cell_type": "code",
   "execution_count": 8,
   "id": "37ae2ccb-0137-4d6e-967b-b1b2f6265704",
   "metadata": {},
   "outputs": [],
   "source": [
    "##Find the cube root of numbers from 1 to 10\n",
    "l=[i**3 for i in range(1,11)]"
   ]
  },
  {
   "cell_type": "code",
   "execution_count": 9,
   "id": "6104fb52-a832-4a67-b4a8-edc6902c7580",
   "metadata": {},
   "outputs": [
    {
     "data": {
      "text/plain": [
       "[1, 8, 27, 64, 125, 216, 343, 512, 729, 1000]"
      ]
     },
     "execution_count": 9,
     "metadata": {},
     "output_type": "execute_result"
    }
   ],
   "source": [
    "l"
   ]
  },
  {
   "cell_type": "code",
   "execution_count": 5,
   "id": "bc1acda9-9b6f-4b6e-9753-141e188783e2",
   "metadata": {},
   "outputs": [],
   "source": [
    "##Check if a given number is even\n",
    "check=lambda x: \"even Number\" if x%2==0 else \"odd Number\""
   ]
  },
  {
   "cell_type": "code",
   "execution_count": 6,
   "id": "6cfbdc6f-78e2-4a3a-b78e-4c800f25d707",
   "metadata": {},
   "outputs": [
    {
     "data": {
      "text/plain": [
       "'odd Number'"
      ]
     },
     "execution_count": 6,
     "metadata": {},
     "output_type": "execute_result"
    }
   ],
   "source": [
    "check(3)"
   ]
  },
  {
   "cell_type": "code",
   "execution_count": 7,
   "id": "74ce3369-8ff4-4ca4-87e4-490aa7056782",
   "metadata": {},
   "outputs": [
    {
     "data": {
      "text/plain": [
       "'even Number'"
      ]
     },
     "execution_count": 7,
     "metadata": {},
     "output_type": "execute_result"
    }
   ],
   "source": [
    "check(8)"
   ]
  },
  {
   "cell_type": "code",
   "execution_count": 14,
   "id": "78f26cd5-aaad-46e1-a41a-0afd56187454",
   "metadata": {},
   "outputs": [],
   "source": [
    "##Filter odd numbers from the given list.\n",
    "lis=[1,2,3,4,5,6,7,8,9,10]\n",
    "odd=list(filter(lambda i:i%2!=0,lis))"
   ]
  },
  {
   "cell_type": "code",
   "execution_count": 16,
   "id": "49a414b4-928b-49ff-886f-150b41809f05",
   "metadata": {},
   "outputs": [
    {
     "data": {
      "text/plain": [
       "[1, 3, 5, 7, 9]"
      ]
     },
     "execution_count": 16,
     "metadata": {},
     "output_type": "execute_result"
    }
   ],
   "source": [
    "odd"
   ]
  },
  {
   "cell_type": "code",
   "execution_count": 19,
   "id": "1455a38a-a455-44b1-a119-fda5e1675079",
   "metadata": {},
   "outputs": [],
   "source": [
    "##Sort a list of integers into positive and negative integers lists.\n",
    "lis=[1,2,3,4,5,6,-1,-2,-3,-4,-5,0]\n",
    "positive=list(filter(lambda i : i>0,lis))\n",
    "negative=list(filter(lambda i : i<0,lis))"
   ]
  },
  {
   "cell_type": "code",
   "execution_count": 20,
   "id": "ed7966e7-f1c1-4c79-9e8a-43c93b85ab24",
   "metadata": {},
   "outputs": [
    {
     "data": {
      "text/plain": [
       "[1, 2, 3, 4, 5, 6]"
      ]
     },
     "execution_count": 20,
     "metadata": {},
     "output_type": "execute_result"
    }
   ],
   "source": [
    "positive"
   ]
  },
  {
   "cell_type": "code",
   "execution_count": 21,
   "id": "422b6712-a581-4a04-a2ce-a28cde18de64",
   "metadata": {},
   "outputs": [
    {
     "data": {
      "text/plain": [
       "[-1, -2, -3, -4, -5]"
      ]
     },
     "execution_count": 21,
     "metadata": {},
     "output_type": "execute_result"
    }
   ],
   "source": [
    "negative"
   ]
  },
  {
   "cell_type": "code",
   "execution_count": null,
   "id": "dbcd1df8-2f83-447c-9e09-7dcd41da0fa9",
   "metadata": {},
   "outputs": [],
   "source": []
  }
 ],
 "metadata": {
  "kernelspec": {
   "display_name": "Python 3 (ipykernel)",
   "language": "python",
   "name": "python3"
  },
  "language_info": {
   "codemirror_mode": {
    "name": "ipython",
    "version": 3
   },
   "file_extension": ".py",
   "mimetype": "text/x-python",
   "name": "python",
   "nbconvert_exporter": "python",
   "pygments_lexer": "ipython3",
   "version": "3.10.8"
  }
 },
 "nbformat": 4,
 "nbformat_minor": 5
}
